{
 "cells": [
  {
   "cell_type": "markdown",
   "id": "aafd63fd",
   "metadata": {},
   "source": [
    "# Sentiment Analysis: Elon Musk Wants to Buy Twitter"
   ]
  },
  {
   "cell_type": "code",
   "execution_count": 1,
   "id": "objective-median",
   "metadata": {},
   "outputs": [
    {
     "name": "stdout",
     "output_type": "stream",
     "text": [
      "Requirement already satisfied: textblob in /Users/georgio/opt/anaconda3/lib/python3.8/site-packages (0.17.1)\r\n",
      "Requirement already satisfied: nltk>=3.1 in /Users/georgio/opt/anaconda3/lib/python3.8/site-packages (from textblob) (3.6.1)\r\n",
      "Requirement already satisfied: tqdm in /Users/georgio/opt/anaconda3/lib/python3.8/site-packages (from nltk>=3.1->textblob) (4.59.0)\r\n",
      "Requirement already satisfied: joblib in /Users/georgio/opt/anaconda3/lib/python3.8/site-packages (from nltk>=3.1->textblob) (1.0.1)\r\n",
      "Requirement already satisfied: regex in /Users/georgio/opt/anaconda3/lib/python3.8/site-packages (from nltk>=3.1->textblob) (2021.4.4)\r\n",
      "Requirement already satisfied: click in /Users/georgio/opt/anaconda3/lib/python3.8/site-packages (from nltk>=3.1->textblob) (7.1.2)\r\n"
     ]
    }
   ],
   "source": [
    "#install the needed libraries\n",
    "!pip install textblob \n",
    "\n",
    "from datetime import date, timedelta\n",
    "import twint\n",
    "import matplotlib\n",
    "import matplotlib.pyplot as plt\n",
    "import nest_asyncio\n",
    "nest_asyncio.apply()"
   ]
  },
  {
   "cell_type": "code",
   "execution_count": 2,
   "id": "patient-fetish",
   "metadata": {},
   "outputs": [],
   "source": [
    "import time\n",
    "import twint\n",
    "#Function to get tweets from Twint and store them in csv file\n",
    "def fromtwint(keyword):\n",
    "    c = twint.Config()\n",
    "    c.Search = keyword\n",
    "    c.Links = 'exclude'      # Delete tweets with links\n",
    "    c.Filter_retweets = True # Exclude retweets from the results.\n",
    "    c.Lang = 'en'            # Tweets in English only\n",
    "    # Time Selection\n",
    "    c.Since = Since\n",
    "    c.Until = Until\n",
    "    c.Custom = ['date', 'time', 'username', 'tweet']\n",
    "    c.Output = 'ElonMusk2.csv'\n",
    "    c.Hide_output = True     # Output will not be shown in console\n",
    "    twint.run.Search(c)      # Run\n",
    "    # Sleep time added\n",
    "    time.sleep(2)"
   ]
  },
  {
   "cell_type": "code",
   "execution_count": null,
   "id": "a454ac1b",
   "metadata": {},
   "outputs": [],
   "source": [
    "# Setting the variables and calling the function\n",
    "# Time period setting\n",
    "Since = '2022-04-14 10:26:00'\n",
    "Until ='2022-04-16 00:00:00'\n",
    "# Keywords setting\n",
    "keywords = ['Elon Musk']\n",
    "for keyword in keywords:\n",
    "    fromtwint(keyword.lower())"
   ]
  },
  {
   "cell_type": "code",
   "execution_count": 3,
   "id": "developing-clerk",
   "metadata": {},
   "outputs": [],
   "source": [
    "#extracting the info from the csv\n",
    "import csv\n",
    "with open('ElonMusk2.csv') as csv_file:\n",
    "    reader = csv.reader(csv_file, delimiter=',')\n",
    "    rows = list(reader)\n"
   ]
  },
  {
   "cell_type": "code",
   "execution_count": 4,
   "id": "df19e437",
   "metadata": {},
   "outputs": [],
   "source": [
    "#storing the tweets in a list\n",
    "tweets=[]\n",
    "for line in rows:\n",
    "    if (len(line)==1):\n",
    "        temp = line[0].split(\">\",1)\n",
    "        if (len(temp)>1):\n",
    "            tweets.append(temp[1])"
   ]
  },
  {
   "cell_type": "code",
   "execution_count": 5,
   "id": "c71b4c40",
   "metadata": {},
   "outputs": [],
   "source": [
    "#cleaning the tweets\n",
    "import re\n",
    "Tweets_Cleaned = []\n",
    "for tweet in tweets:\n",
    "    tweet = re.sub(r'@[A-Za-z0-9]+','',tweet)\n",
    "    tweet = re.sub(r'#','',tweet)\n",
    "    tweet = re.sub(r'RT[\\s]+','',tweet)\n",
    "    tweet = re.sub(r'https?:\\/\\/\\S+','',tweet)\n",
    "    Tweets_Cleaned.append(tweet)\n",
    "    "
   ]
  },
  {
   "cell_type": "code",
   "execution_count": 6,
   "id": "fd99c6a1",
   "metadata": {},
   "outputs": [],
   "source": [
    "#functions to get Subjectivity and Polarity\n",
    "from textblob import TextBlob\n",
    "def  getSubjectivity(text):\n",
    "    return TextBlob(text).sentiment.subjectivity\n",
    "\n",
    "def getPolarity(text):\n",
    "    return TextBlob(text).sentiment.polarity"
   ]
  },
  {
   "cell_type": "code",
   "execution_count": 7,
   "id": "ca4bef22",
   "metadata": {},
   "outputs": [],
   "source": [
    "#Store Subjuctivity and Polarity of each tweet in a list \n",
    "subj_list=[]\n",
    "pol_list=[]\n",
    "\n",
    "for tweet in Tweets_Cleaned:\n",
    "    subj_list.append(getSubjectivity(tweet))\n",
    "    pol_list.append(getPolarity(tweet))\n",
    "    "
   ]
  },
  {
   "cell_type": "code",
   "execution_count": 8,
   "id": "385bccfb",
   "metadata": {},
   "outputs": [],
   "source": [
    "subj_list.sort()\n",
    "pol_list.sort()"
   ]
  },
  {
   "cell_type": "code",
   "execution_count": 9,
   "id": "b6931216",
   "metadata": {},
   "outputs": [
    {
     "data": {
      "image/png": "[encoded data removed]",
      "text/plain": [
       "<Figure size 432x288 with 1 Axes>"
      ]
     },
     "metadata": {
      "needs_background": "light"
     },
     "output_type": "display_data"
    }
   ],
   "source": [
    "# Plot the polarity and subjectivity\n",
    "plt.scatter(subj_list, pol_list, color='Blue')\n",
    "    \n",
    "plt.title('Sentiment Analysis')\n",
    "plt.xlabel('Subjectivity')\n",
    "plt.ylabel('Polarity') \n",
    "plt.show() "
   ]
  }
 ],
 "metadata": {
  "kernelspec": {
   "display_name": "Python 3",
   "language": "python",
   "name": "python3"
  },
  "language_info": {
   "codemirror_mode": {
    "name": "ipython",
    "version": 3
   },
   "file_extension": ".py",
   "mimetype": "text/x-python",
   "name": "python",
   "nbconvert_exporter": "python",
   "pygments_lexer": "ipython3",
   "version": "3.8.8"
  }
 },
 "nbformat": 4,
 "nbformat_minor": 5
}
